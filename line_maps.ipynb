{
 "cells": [
  {
   "cell_type": "code",
   "execution_count": null,
   "metadata": {},
   "outputs": [],
   "source": [
    "# Code created following tutorial \"Interactive Maps in Python, Part 2\"\n",
    "# By Vincent Lonij\n",
    "# https://blog.prototypr.io/interactive-maps-in-python-part-2-4943c4cb0ee4"
   ]
  },
  {
   "cell_type": "code",
   "execution_count": 1,
   "metadata": {},
   "outputs": [],
   "source": [
    "from PIL import Image, ImageDraw\n",
    "import numpy as np\n",
    "import pandas as pd\n",
    "import folium\n",
    "import matplotlib.pyplot as plt\n",
    "import matplotlib.colors\n",
    "from matplotlib.colors import LinearSegmentedColormap, rgb_to_hsv, hsv_to_rgb\n",
    "import scipy.ndimage.filters"
   ]
  },
  {
   "cell_type": "code",
   "execution_count": 2,
   "metadata": {},
   "outputs": [
    {
     "data": {
      "text/html": [
       "<div>\n",
       "<style scoped>\n",
       "    .dataframe tbody tr th:only-of-type {\n",
       "        vertical-align: middle;\n",
       "    }\n",
       "\n",
       "    .dataframe tbody tr th {\n",
       "        vertical-align: top;\n",
       "    }\n",
       "\n",
       "    .dataframe thead th {\n",
       "        text-align: right;\n",
       "    }\n",
       "</style>\n",
       "<table border=\"1\" class=\"dataframe\">\n",
       "  <thead>\n",
       "    <tr style=\"text-align: right;\">\n",
       "      <th></th>\n",
       "      <th>Trip Duration</th>\n",
       "      <th>Start Time</th>\n",
       "      <th>Stop Time</th>\n",
       "      <th>Start Station ID</th>\n",
       "      <th>Start Station Name</th>\n",
       "      <th>Start Station Latitude</th>\n",
       "      <th>Start Station Longitude</th>\n",
       "      <th>End Station ID</th>\n",
       "      <th>End Station Name</th>\n",
       "      <th>End Station Latitude</th>\n",
       "      <th>End Station Longitude</th>\n",
       "      <th>Bike ID</th>\n",
       "      <th>User Type</th>\n",
       "      <th>Birth Year</th>\n",
       "      <th>Gender</th>\n",
       "      <th>hour</th>\n",
       "    </tr>\n",
       "  </thead>\n",
       "  <tbody>\n",
       "    <tr>\n",
       "      <th>0</th>\n",
       "      <td>60.0</td>\n",
       "      <td>2016-10-01 09:00:00</td>\n",
       "      <td>2016-10-01 10:00:00</td>\n",
       "      <td>hometown 1</td>\n",
       "      <td>hometown 1</td>\n",
       "      <td>43.507303</td>\n",
       "      <td>16.441423</td>\n",
       "      <td>undergrad 1</td>\n",
       "      <td>undergrad 1</td>\n",
       "      <td>41.823989</td>\n",
       "      <td>-71.412834</td>\n",
       "      <td>1.0</td>\n",
       "      <td>Subscriber</td>\n",
       "      <td>NaN</td>\n",
       "      <td>NaN</td>\n",
       "      <td>9.0</td>\n",
       "    </tr>\n",
       "    <tr>\n",
       "      <th>1</th>\n",
       "      <td>60.0</td>\n",
       "      <td>2016-10-01 09:00:00</td>\n",
       "      <td>2016-10-01 10:00:00</td>\n",
       "      <td>hometown 2</td>\n",
       "      <td>hometown 2</td>\n",
       "      <td>45.438496</td>\n",
       "      <td>10.992412</td>\n",
       "      <td>undergrad 2</td>\n",
       "      <td>undergrad 2</td>\n",
       "      <td>45.886548</td>\n",
       "      <td>11.045237</td>\n",
       "      <td>2.0</td>\n",
       "      <td>Subscriber</td>\n",
       "      <td>NaN</td>\n",
       "      <td>NaN</td>\n",
       "      <td>9.0</td>\n",
       "    </tr>\n",
       "    <tr>\n",
       "      <th>2</th>\n",
       "      <td>60.0</td>\n",
       "      <td>2016-10-01 09:00:00</td>\n",
       "      <td>2016-10-01 10:00:00</td>\n",
       "      <td>hometown 3</td>\n",
       "      <td>hometown 3</td>\n",
       "      <td>52.238524</td>\n",
       "      <td>-0.902493</td>\n",
       "      <td>undergrad 3</td>\n",
       "      <td>undergrad 3</td>\n",
       "      <td>-34.424394</td>\n",
       "      <td>150.893850</td>\n",
       "      <td>3.0</td>\n",
       "      <td>Subscriber</td>\n",
       "      <td>NaN</td>\n",
       "      <td>NaN</td>\n",
       "      <td>9.0</td>\n",
       "    </tr>\n",
       "    <tr>\n",
       "      <th>3</th>\n",
       "      <td>60.0</td>\n",
       "      <td>2016-10-01 09:00:00</td>\n",
       "      <td>2016-10-01 10:00:00</td>\n",
       "      <td>hometown 4</td>\n",
       "      <td>hometown 4</td>\n",
       "      <td>22.279328</td>\n",
       "      <td>114.162813</td>\n",
       "      <td>undergrad 4</td>\n",
       "      <td>undergrad 4</td>\n",
       "      <td>22.279328</td>\n",
       "      <td>114.162813</td>\n",
       "      <td>4.0</td>\n",
       "      <td>Subscriber</td>\n",
       "      <td>NaN</td>\n",
       "      <td>NaN</td>\n",
       "      <td>9.0</td>\n",
       "    </tr>\n",
       "    <tr>\n",
       "      <th>4</th>\n",
       "      <td>60.0</td>\n",
       "      <td>2016-10-01 09:00:00</td>\n",
       "      <td>2016-10-01 10:00:00</td>\n",
       "      <td>hometown 5</td>\n",
       "      <td>hometown 5</td>\n",
       "      <td>41.875562</td>\n",
       "      <td>-87.624421</td>\n",
       "      <td>undergrad 5</td>\n",
       "      <td>undergrad 5</td>\n",
       "      <td>42.268157</td>\n",
       "      <td>-83.731229</td>\n",
       "      <td>5.0</td>\n",
       "      <td>Subscriber</td>\n",
       "      <td>NaN</td>\n",
       "      <td>NaN</td>\n",
       "      <td>9.0</td>\n",
       "    </tr>\n",
       "  </tbody>\n",
       "</table>\n",
       "</div>"
      ],
      "text/plain": [
       "   Trip Duration          Start Time           Stop Time Start Station ID  \\\n",
       "0           60.0 2016-10-01 09:00:00 2016-10-01 10:00:00       hometown 1   \n",
       "1           60.0 2016-10-01 09:00:00 2016-10-01 10:00:00       hometown 2   \n",
       "2           60.0 2016-10-01 09:00:00 2016-10-01 10:00:00       hometown 3   \n",
       "3           60.0 2016-10-01 09:00:00 2016-10-01 10:00:00       hometown 4   \n",
       "4           60.0 2016-10-01 09:00:00 2016-10-01 10:00:00       hometown 5   \n",
       "\n",
       "  Start Station Name  Start Station Latitude  Start Station Longitude  \\\n",
       "0         hometown 1               43.507303                16.441423   \n",
       "1         hometown 2               45.438496                10.992412   \n",
       "2         hometown 3               52.238524                -0.902493   \n",
       "3         hometown 4               22.279328               114.162813   \n",
       "4         hometown 5               41.875562               -87.624421   \n",
       "\n",
       "  End Station ID End Station Name  End Station Latitude  \\\n",
       "0    undergrad 1      undergrad 1             41.823989   \n",
       "1    undergrad 2      undergrad 2             45.886548   \n",
       "2    undergrad 3      undergrad 3            -34.424394   \n",
       "3    undergrad 4      undergrad 4             22.279328   \n",
       "4    undergrad 5      undergrad 5             42.268157   \n",
       "\n",
       "   End Station Longitude  Bike ID   User Type  Birth Year  Gender  hour  \n",
       "0             -71.412834      1.0  Subscriber         NaN     NaN   9.0  \n",
       "1              11.045237      2.0  Subscriber         NaN     NaN   9.0  \n",
       "2             150.893850      3.0  Subscriber         NaN     NaN   9.0  \n",
       "3             114.162813      4.0  Subscriber         NaN     NaN   9.0  \n",
       "4             -83.731229      5.0  Subscriber         NaN     NaN   9.0  "
      ]
     },
     "execution_count": 2,
     "metadata": {},
     "output_type": "execute_result"
    }
   ],
   "source": [
    "neurohack_data = pd.read_csv(\"line_maps_data.csv\")\n",
    "neurohack_data[\"Start Time\"] = pd.to_datetime(neurohack_data[\"Start Time\"])\n",
    "neurohack_data[\"Stop Time\"] = pd.to_datetime(neurohack_data[\"Stop Time\"])\n",
    "neurohack_data[\"hour\"] = neurohack_data[\"Start Time\"].map(lambda x: x.hour)\n",
    "neurohack_data.head()"
   ]
  },
  {
   "cell_type": "code",
   "execution_count": 3,
   "metadata": {},
   "outputs": [],
   "source": [
    "def get_kernel(kernel_size, blur=1/20, halo=.001):\n",
    "    \"\"\"\n",
    "    Create an (n*2+1)x(n*2+1) numpy array.\n",
    "    Output can be used as the kernel for convolution.\n",
    "    \"\"\"\n",
    "    \n",
    "    # generate x and y grids\n",
    "    x, y = np.mgrid[0:kernel_size*2+1, 0:kernel_size*2+1]\n",
    "    \n",
    "    center = kernel_size + 1  # center pixel\n",
    "    r = np.sqrt((x - center)**2 + (y - center)**2)  # distance from center\n",
    "    \n",
    "    # now compute the kernel. This function is a bit arbitrary. \n",
    "    # adjust this to get the effect you want.\n",
    "    kernel = np.exp(-r/kernel_size/blur) + (1 - r/r[center,0]).clip(0)*halo\n",
    "    return kernel\n",
    "\n",
    "def add_lines(image_array, xys, width=1, weights=None):\n",
    "    \"\"\"\n",
    "    Add a set of lines (xys) to an existing image_array\n",
    "    width: width of lines\n",
    "    weights: [], optional list of multipliers for lines. \n",
    "    \"\"\"\n",
    "    \n",
    "    for i, xy in enumerate(xys):  # loop over lines\n",
    "        # create a new gray scale image\n",
    "        image = Image.new(\"L\",(image_array.shape[1], image_array.shape[0]))\n",
    "        \n",
    "        # draw the line\n",
    "        ImageDraw.Draw(image).line(xy, 200, width=width)\n",
    "        \n",
    "        #convert to array\n",
    "        new_image_array = np.asarray(image, dtype=np.uint8).astype(float)\n",
    "        \n",
    "        # apply weights if provided\n",
    "        if weights is not None:\n",
    "            new_image_array *= weights[i]\n",
    "            \n",
    "        # add to existing array\n",
    "        image_array += new_image_array\n",
    "\n",
    "    # convolve image\n",
    "    new_image_array = scipy.ndimage.filters.convolve(image_array, get_kernel(width*4)) \n",
    "    return new_image_array\n"
   ]
  },
  {
   "cell_type": "code",
   "execution_count": 4,
   "metadata": {},
   "outputs": [],
   "source": [
    "def to_image(array, hue=.62):\n",
    "    \"\"\"converts an array of floats to an array of RGB values using a colormap\"\"\"\n",
    "    \n",
    "    # apply saturation function\n",
    "    image_data = np.log(array + 1)\n",
    "    \n",
    "    # create colormap, change these values to adjust to look of your plot\n",
    "    saturation_values = [[0, 0], [1, .68], [.78, .87], [0, 1]]\n",
    "    colors = [hsv_to_rgb([hue, x, y]) for x, y in saturation_values]\n",
    "    cmap = LinearSegmentedColormap.from_list(\"my_colormap\", colors)\n",
    "    \n",
    "    # apply colormap\n",
    "    out = cmap(image_data/image_data.max())\n",
    "    \n",
    "    # convert to 8-bit unsigned integer\n",
    "    out = (out*255).astype(np.uint8)\n",
    "    return out"
   ]
  },
  {
   "cell_type": "code",
   "execution_count": 5,
   "metadata": {},
   "outputs": [],
   "source": [
    "#xys = [(10,10,200,200), (175,10,175,200), (200,10,10,200)]  # some lines\n",
    "#weights = np.array([ 2,1,.7])/100  # some weights\n",
    "\n",
    "# create the image_data\n",
    "#new_image_data = add_lines(np.zeros((220,220)),\n",
    "#                           xys,\n",
    "#                           width=4,\n",
    "#                           weights=weights) \n",
    "\n",
    "# show the image\n",
    "#Image.fromarray(to_image(new_image_data),mode=\"RGBA\")"
   ]
  },
  {
   "cell_type": "code",
   "execution_count": 6,
   "metadata": {},
   "outputs": [],
   "source": [
    "min_lat = neurohack_data[\"Start Station Latitude\"].min()\n",
    "max_lat = neurohack_data[\"Start Station Latitude\"].max()\n",
    "max_lon = neurohack_data[\"Start Station Longitude\"].max()\n",
    "min_lon = neurohack_data[\"Start Station Longitude\"].min()\n",
    "\n",
    "def latlon_to_pixel(lat, lon, image_shape):\n",
    "    # longitude to pixel conversion (fit data to image)\n",
    "    delta_x = image_shape[1]/(max_lon-min_lon)\n",
    "    \n",
    "    # latitude to pixel conversion (maintain aspect ratio)\n",
    "    delta_y = delta_x/np.cos(lat/360*np.pi*2)\n",
    "    pixel_y = (max_lat-lat)*delta_y\n",
    "    pixel_x = (lon-min_lon)*delta_x\n",
    "    return (pixel_y,pixel_x)\n",
    "\n",
    "\n",
    "def row_to_pixel(row,image_shape):\n",
    "    \"\"\"\n",
    "    convert a row (1 trip) to pixel coordinates\n",
    "    of start and end point\n",
    "    \"\"\"\n",
    "    start_y, start_x = latlon_to_pixel(row[\"Start Station Latitude\"], \n",
    "                                       row[\"Start Station Longitude\"], image_shape)\n",
    "    end_y, end_x = latlon_to_pixel(row[\"End Station Latitude\"], \n",
    "                                   row[\"End Station Longitude\"], image_shape)\n",
    "    xy = (start_x, start_y, end_x, end_y)\n",
    "    return xy\n"
   ]
  },
  {
   "cell_type": "code",
   "execution_count": 7,
   "metadata": {},
   "outputs": [],
   "source": [
    "#Next: \n",
    "#Visualize data for hometown to undergraduate movement\n",
    "#Add to a world map"
   ]
  },
  {
   "cell_type": "code",
   "execution_count": 9,
   "metadata": {},
   "outputs": [],
   "source": [
    "paths = neurohack_data[neurohack_data.hour==9]\n",
    "paths = paths.iloc[:60,:]\n",
    "\n",
    "# generate empty pixel array, choose your resolution\n",
    "image_data = np.zeros((400,900))\n",
    "\n",
    "# generate pixel coordinates of starting points and end points\n",
    "xys = [row_to_pixel(row, image_data.shape) for i, row in paths.iterrows()]\n",
    "\n",
    "# draw the lines\n",
    "image_data = add_lines(image_data, xys, weights=None, width = 1)\n",
    "#Image.fromarray(to_image(image_data*10)[:,:,:3],mode=\"RGB\")"
   ]
  },
  {
   "cell_type": "code",
   "execution_count": 10,
   "metadata": {},
   "outputs": [
    {
     "data": {
      "text/plain": [
       "(54, 7)"
      ]
     },
     "execution_count": 10,
     "metadata": {},
     "output_type": "execute_result"
    }
   ],
   "source": [
    "# make a list of locations (latitude longitude) for each station id\n",
    "locations = neurohack_data.groupby(\"Start Station ID\").mean()\n",
    "locations = locations.loc[:,[\"Start Station Latitude\", \"Start Station Longitude\"]]\n",
    "\n",
    "# group by each unique pair of (start-station, end-station) and count the number of trips\n",
    "neurohack_data[\"path_id\"] = [(id1,id2) for id1,id2 in zip(neurohack_data[\"Start Station ID\"], \n",
    "                                                     neurohack_data[\"End Station ID\"])]\n",
    "paths = neurohack_data[neurohack_data[\"hour\"]==9].groupby(\"path_id\").count().iloc[:,[1]] \n",
    "paths.columns = [\"Trip Count\"]\n",
    "\n",
    "# select only paths with more than X trips\n",
    "paths = paths[paths[\"Trip Count\"]==1]\n",
    "paths[\"Start Station ID\"] = paths.index.map(lambda x:x[0])\n",
    "paths[\"End Station ID\"] = paths.index.map(lambda x:x[1])\n",
    "paths = paths[paths[\"Start Station ID\"]!=paths[\"End Station ID\"]]\n",
    "\n",
    "# join latitude/longitude into new table\n",
    "paths = paths.join(locations,on=\"Start Station ID\")\n",
    "locations.columns = [\"End Station Latitude\",\"End Station Longitude\"]\n",
    "paths = paths.join(locations,on=\"End Station ID\")\n",
    "paths.index = range(len(paths))\n",
    "\n",
    "paths.shape"
   ]
  },
  {
   "cell_type": "code",
   "execution_count": 11,
   "metadata": {},
   "outputs": [],
   "source": [
    "def get_image_data(paths, min_count=0, max_count=None):\n",
    "    # generate empty pixel array\n",
    "    image_data = np.zeros((400*2,900*2))\n",
    "    \n",
    "    # generate pixel coordinates of starting points and end points\n",
    "    if max_count is None:\n",
    "        max_count = paths[\"Trip Count\"].max()+1\n",
    "    selector = (paths[\"Trip Count\"]>= min_count) & (paths[\"Trip Count\"]< max_count)\n",
    "    xys = [row_to_pixel(row, image_data.shape) for i, row in paths[selector].iterrows()]\n",
    "\n",
    "    # draw the lines\n",
    "    image_data = add_lines(image_data, xys, weights=paths[\"Trip Count\"], width = 1)\n",
    "    return image_data\n"
   ]
  },
  {
   "cell_type": "code",
   "execution_count": 12,
   "metadata": {},
   "outputs": [],
   "source": [
    "#Image.fromarray(to_image(get_image_data(paths)*10)[:,:,:3],mode=\"RGB\")"
   ]
  },
  {
   "cell_type": "code",
   "execution_count": 13,
   "metadata": {},
   "outputs": [],
   "source": [
    "def add_alpha(image_data):\n",
    "    \"\"\"\n",
    "    Uses the Value in HSV as an alpha channel. \n",
    "    This creates an image that blends nicely with a black background.\n",
    "    \"\"\"\n",
    "    \n",
    "    # get hsv image\n",
    "    hsv = rgb_to_hsv(image_data[:,:,:3].astype(float)/255)\n",
    "    \n",
    "    # create new image and set alpha channel\n",
    "    new_image_data = np.zeros(image_data.shape)\n",
    "    new_image_data[:,:,3] = hsv[:,:,2]\n",
    "    \n",
    "    # set value of hsv image to either 0 or 1.\n",
    "    hsv[:,:,2] = np.where(hsv[:,:,2]>0, 1, 0)\n",
    "    \n",
    "    # combine alpha and new rgb\n",
    "    new_image_data[:,:,:3] = hsv_to_rgb(hsv)\n",
    "    return new_image_data"
   ]
  },
  {
   "cell_type": "code",
   "execution_count": 28,
   "metadata": {},
   "outputs": [
    {
     "data": {
      "text/html": [
       "<div style=\"width:100%;\"><div style=\"position:relative;width:100%;height:0;padding-bottom:60%;\"><iframe src=\"data:text/html;charset=utf-8;base64,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\" style=\"position:absolute;width:100%;height:100%;left:0;top:0;border:none !important;\" allowfullscreen webkitallowfullscreen mozallowfullscreen></iframe></div></div>"
      ],
      "text/plain": [
       "<folium.folium.Map at 0x10c66a080>"
      ]
     },
     "execution_count": 28,
     "metadata": {},
     "output_type": "execute_result"
    }
   ],
   "source": [
    "# create the map\n",
    "folium_map = folium.Map(location=[30.738, -10.98],\n",
    "                        zoom_start=2,\n",
    "                        tiles=\"stamenterrain\",\n",
    "                        width='100%')\n",
    "\n",
    "\n",
    "# create the overlay\n",
    "map_overlay = add_alpha(to_image(image_data*10))\n",
    "\n",
    "# compute extent of image in lat/lon\n",
    "aspect_ratio = map_overlay.shape[1]/map_overlay.shape[0]\n",
    "delta_lat = (max_lon-min_lon)/aspect_ratio*np.cos(min_lat/360*2*np.pi)\n",
    "\n",
    "# add the image to the map\n",
    "img = folium.raster_layers.ImageOverlay(map_overlay,\n",
    "                           bounds = [(max_lat-delta_lat,min_lon),(max_lat,max_lon)],\n",
    "                           opacity = 1,\n",
    "                           name = \"Paths\")\n",
    "\n",
    "img.add_to(folium_map)\n",
    "folium.LayerControl().add_to(folium_map)\n",
    "\n",
    "# show the map\n",
    "folium_map"
   ]
  },
  {
   "cell_type": "code",
   "execution_count": 15,
   "metadata": {},
   "outputs": [],
   "source": [
    "#Next: \n",
    "#Visualize data for undergraduate to bost-bacc(lab manager, research assistant) movement\n",
    "#Add to a world map"
   ]
  },
  {
   "cell_type": "code",
   "execution_count": 16,
   "metadata": {},
   "outputs": [],
   "source": [
    "paths = neurohack_data[neurohack_data.hour==10]\n",
    "paths = paths.iloc[:60,:]\n",
    "\n",
    "# generate empty pixel array, choose your resolution\n",
    "image_data = np.zeros((400,900))\n",
    "\n",
    "# generate pixel coordinates of starting points and end points\n",
    "xys = [row_to_pixel(row, image_data.shape) for i, row in paths.iterrows()]\n",
    "\n",
    "# draw the lines\n",
    "image_data = add_lines(image_data, xys, weights=None, width = 1)\n",
    "#Image.fromarray(to_image(image_data*10)[:,:,:3],mode=\"RGB\")"
   ]
  },
  {
   "cell_type": "code",
   "execution_count": 17,
   "metadata": {},
   "outputs": [
    {
     "data": {
      "text/plain": [
       "(54, 7)"
      ]
     },
     "execution_count": 17,
     "metadata": {},
     "output_type": "execute_result"
    }
   ],
   "source": [
    "# make a list of locations (latitude longitude) for each station id\n",
    "locations = neurohack_data.groupby(\"Start Station ID\").mean()\n",
    "locations = locations.loc[:,[\"Start Station Latitude\", \"Start Station Longitude\"]]\n",
    "\n",
    "# group by each unique pair of (start-station, end-station) and count the number of trips\n",
    "neurohack_data[\"path_id\"] = [(id1,id2) for id1,id2 in zip(neurohack_data[\"Start Station ID\"], \n",
    "                                                     neurohack_data[\"End Station ID\"])]\n",
    "paths = neurohack_data[neurohack_data[\"hour\"]==9].groupby(\"path_id\").count().iloc[:,[1]] \n",
    "paths.columns = [\"Trip Count\"]\n",
    "\n",
    "# select only paths with more than X trips\n",
    "paths = paths[paths[\"Trip Count\"]==1]\n",
    "paths[\"Start Station ID\"] = paths.index.map(lambda x:x[0])\n",
    "paths[\"End Station ID\"] = paths.index.map(lambda x:x[1])\n",
    "paths = paths[paths[\"Start Station ID\"]!=paths[\"End Station ID\"]]\n",
    "\n",
    "# join latitude/longitude into new table\n",
    "paths = paths.join(locations,on=\"Start Station ID\")\n",
    "locations.columns = [\"End Station Latitude\",\"End Station Longitude\"]\n",
    "paths = paths.join(locations,on=\"End Station ID\")\n",
    "paths.index = range(len(paths))\n",
    "\n",
    "paths.shape"
   ]
  },
  {
   "cell_type": "code",
   "execution_count": 18,
   "metadata": {},
   "outputs": [],
   "source": [
    "def get_image_data(paths, min_count=0, max_count=None):\n",
    "    # generate empty pixel array\n",
    "    image_data = np.zeros((400*2,900*2))\n",
    "    \n",
    "    # generate pixel coordinates of starting points and end points\n",
    "    if max_count is None:\n",
    "        max_count = paths[\"Trip Count\"].max()+1\n",
    "    selector = (paths[\"Trip Count\"]>= min_count) & (paths[\"Trip Count\"]< max_count)\n",
    "    xys = [row_to_pixel(row, image_data.shape) for i, row in paths[selector].iterrows()]\n",
    "\n",
    "    # draw the lines\n",
    "    image_data = add_lines(image_data, xys, weights=paths[\"Trip Count\"], width = 1)\n",
    "    return image_data\n"
   ]
  },
  {
   "cell_type": "code",
   "execution_count": 19,
   "metadata": {},
   "outputs": [],
   "source": [
    "def add_alpha(image_data):\n",
    "    \"\"\"\n",
    "    Uses the Value in HSV as an alpha channel. \n",
    "    This creates an image that blends nicely with a black background.\n",
    "    \"\"\"\n",
    "    \n",
    "    # get hsv image\n",
    "    hsv = rgb_to_hsv(image_data[:,:,:3].astype(float)/255)\n",
    "    \n",
    "    # create new image and set alpha channel\n",
    "    new_image_data = np.zeros(image_data.shape)\n",
    "    new_image_data[:,:,3] = hsv[:,:,2]\n",
    "    \n",
    "    # set value of hsv image to either 0 or 1.\n",
    "    hsv[:,:,2] = np.where(hsv[:,:,2]>0, 1, 0)\n",
    "    \n",
    "    # combine alpha and new rgb\n",
    "    new_image_data[:,:,:3] = hsv_to_rgb(hsv)\n",
    "    return new_image_data"
   ]
  },
  {
   "cell_type": "code",
   "execution_count": 29,
   "metadata": {},
   "outputs": [
    {
     "data": {
      "text/html": [
       "<div style=\"width:100%;\"><div style=\"position:relative;width:100%;height:0;padding-bottom:60%;\"><iframe src=\"data:text/html;charset=utf-8;base64,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\" style=\"position:absolute;width:100%;height:100%;left:0;top:0;border:none !important;\" allowfullscreen webkitallowfullscreen mozallowfullscreen></iframe></div></div>"
      ],
      "text/plain": [
       "<folium.folium.Map at 0x10c66ad68>"
      ]
     },
     "execution_count": 29,
     "metadata": {},
     "output_type": "execute_result"
    }
   ],
   "source": [
    "# create the map\n",
    "folium_map = folium.Map(location=[30.738, -10.98],\n",
    "                        zoom_start=2,\n",
    "                        tiles=\"stamenterrain\",\n",
    "                        width='100%')\n",
    "\n",
    "\n",
    "# create the overlay\n",
    "map_overlay = add_alpha(to_image(image_data*10))\n",
    "\n",
    "# compute extent of image in lat/lon\n",
    "aspect_ratio = map_overlay.shape[1]/map_overlay.shape[0]\n",
    "delta_lat = (max_lon-min_lon)/aspect_ratio*np.cos(min_lat/360*2*np.pi)\n",
    "\n",
    "# add the image to the map\n",
    "img = folium.raster_layers.ImageOverlay(map_overlay,\n",
    "                           bounds = [(max_lat-delta_lat,min_lon),(max_lat,max_lon)],\n",
    "                           opacity = 1,\n",
    "                           name = \"Paths\")\n",
    "\n",
    "img.add_to(folium_map)\n",
    "folium.LayerControl().add_to(folium_map)\n",
    "\n",
    "# show the map\n",
    "folium_map"
   ]
  },
  {
   "cell_type": "code",
   "execution_count": 21,
   "metadata": {},
   "outputs": [],
   "source": [
    "#Next: \n",
    "#Visualize data for post-bacc to PhD movement\n",
    "#Add to a world map"
   ]
  },
  {
   "cell_type": "code",
   "execution_count": 22,
   "metadata": {},
   "outputs": [],
   "source": [
    "paths = neurohack_data[neurohack_data.hour==11]\n",
    "paths = paths.iloc[:60,:]\n",
    "\n",
    "# generate empty pixel array, choose your resolution\n",
    "image_data = np.zeros((400,900))\n",
    "\n",
    "# generate pixel coordinates of starting points and end points\n",
    "xys = [row_to_pixel(row, image_data.shape) for i, row in paths.iterrows()]\n",
    "\n",
    "# draw the lines\n",
    "image_data = add_lines(image_data, xys, weights=None, width = 1)\n",
    "#Image.fromarray(to_image(image_data*10)[:,:,:3],mode=\"RGB\")"
   ]
  },
  {
   "cell_type": "code",
   "execution_count": 23,
   "metadata": {},
   "outputs": [
    {
     "data": {
      "text/plain": [
       "(54, 7)"
      ]
     },
     "execution_count": 23,
     "metadata": {},
     "output_type": "execute_result"
    }
   ],
   "source": [
    "# make a list of locations (latitude longitude) for each station id\n",
    "locations = neurohack_data.groupby(\"Start Station ID\").mean()\n",
    "locations = locations.loc[:,[\"Start Station Latitude\", \"Start Station Longitude\"]]\n",
    "\n",
    "# group by each unique pair of (start-station, end-station) and count the number of trips\n",
    "neurohack_data[\"path_id\"] = [(id1,id2) for id1,id2 in zip(neurohack_data[\"Start Station ID\"], \n",
    "                                                     neurohack_data[\"End Station ID\"])]\n",
    "paths = neurohack_data[neurohack_data[\"hour\"]==9].groupby(\"path_id\").count().iloc[:,[1]] \n",
    "paths.columns = [\"Trip Count\"]\n",
    "\n",
    "# select only paths with more than X trips\n",
    "paths = paths[paths[\"Trip Count\"]==1]\n",
    "paths[\"Start Station ID\"] = paths.index.map(lambda x:x[0])\n",
    "paths[\"End Station ID\"] = paths.index.map(lambda x:x[1])\n",
    "paths = paths[paths[\"Start Station ID\"]!=paths[\"End Station ID\"]]\n",
    "\n",
    "# join latitude/longitude into new table\n",
    "paths = paths.join(locations,on=\"Start Station ID\")\n",
    "locations.columns = [\"End Station Latitude\",\"End Station Longitude\"]\n",
    "paths = paths.join(locations,on=\"End Station ID\")\n",
    "paths.index = range(len(paths))\n",
    "\n",
    "paths.shape"
   ]
  },
  {
   "cell_type": "code",
   "execution_count": 24,
   "metadata": {},
   "outputs": [],
   "source": [
    "def get_image_data(paths, min_count=0, max_count=None):\n",
    "    # generate empty pixel array\n",
    "    image_data = np.zeros((400*2,900*2))\n",
    "    \n",
    "    # generate pixel coordinates of starting points and end points\n",
    "    if max_count is None:\n",
    "        max_count = paths[\"Trip Count\"].max()+1\n",
    "    selector = (paths[\"Trip Count\"]>= min_count) & (paths[\"Trip Count\"]< max_count)\n",
    "    xys = [row_to_pixel(row, image_data.shape) for i, row in paths[selector].iterrows()]\n",
    "\n",
    "    # draw the lines\n",
    "    image_data = add_lines(image_data, xys, weights=paths[\"Trip Count\"], width = 1)\n",
    "    return image_data\n"
   ]
  },
  {
   "cell_type": "code",
   "execution_count": 25,
   "metadata": {},
   "outputs": [],
   "source": [
    "def add_alpha(image_data):\n",
    "    \"\"\"\n",
    "    Uses the Value in HSV as an alpha channel. \n",
    "    This creates an image that blends nicely with a black background.\n",
    "    \"\"\"\n",
    "    \n",
    "    # get hsv image\n",
    "    hsv = rgb_to_hsv(image_data[:,:,:3].astype(float)/255)\n",
    "    \n",
    "    # create new image and set alpha channel\n",
    "    new_image_data = np.zeros(image_data.shape)\n",
    "    new_image_data[:,:,3] = hsv[:,:,2]\n",
    "    \n",
    "    # set value of hsv image to either 0 or 1.\n",
    "    hsv[:,:,2] = np.where(hsv[:,:,2]>0, 1, 0)\n",
    "    \n",
    "    # combine alpha and new rgb\n",
    "    new_image_data[:,:,:3] = hsv_to_rgb(hsv)\n",
    "    return new_image_data"
   ]
  },
  {
   "cell_type": "code",
   "execution_count": 27,
   "metadata": {},
   "outputs": [
    {
     "data": {
      "text/html": [
       "<div style=\"width:100%;\"><div style=\"position:relative;width:100%;height:0;padding-bottom:60%;\"><iframe src=\"data:text/html;charset=utf-8;base64,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\" style=\"position:absolute;width:100%;height:100%;left:0;top:0;border:none !important;\" allowfullscreen webkitallowfullscreen mozallowfullscreen></iframe></div></div>"
      ],
      "text/plain": [
       "<folium.folium.Map at 0x1821544e10>"
      ]
     },
     "execution_count": 27,
     "metadata": {},
     "output_type": "execute_result"
    }
   ],
   "source": [
    "# create the map\n",
    "folium_map = folium.Map(location=[30.738, -10.98],\n",
    "                        zoom_start=2,\n",
    "                        tiles=\"stamenterrain\", \n",
    "                        width='100%')\n",
    "\n",
    "\n",
    "# create the overlay\n",
    "map_overlay = add_alpha(to_image(image_data*10))\n",
    "\n",
    "# compute extent of image in lat/lon\n",
    "aspect_ratio = map_overlay.shape[1]/map_overlay.shape[0]\n",
    "delta_lat = (max_lon-min_lon)/aspect_ratio*np.cos(min_lat/360*2*np.pi)\n",
    "\n",
    "# add the image to the map\n",
    "img = folium.raster_layers.ImageOverlay(map_overlay,\n",
    "                           bounds = [(max_lat-delta_lat,min_lon),(max_lat,max_lon)],\n",
    "                           opacity = 1,\n",
    "                           name = \"Paths\")\n",
    "\n",
    "img.add_to(folium_map)\n",
    "folium.LayerControl().add_to(folium_map)\n",
    "\n",
    "# show the map\n",
    "folium_map"
   ]
  },
  {
   "cell_type": "code",
   "execution_count": null,
   "metadata": {},
   "outputs": [],
   "source": []
  },
  {
   "cell_type": "code",
   "execution_count": null,
   "metadata": {},
   "outputs": [],
   "source": []
  }
 ],
 "metadata": {
  "kernelspec": {
   "display_name": "Python 3",
   "language": "python",
   "name": "python3"
  },
  "language_info": {
   "codemirror_mode": {
    "name": "ipython",
    "version": 3
   },
   "file_extension": ".py",
   "mimetype": "text/x-python",
   "name": "python",
   "nbconvert_exporter": "python",
   "pygments_lexer": "ipython3",
   "version": "3.6.4"
  }
 },
 "nbformat": 4,
 "nbformat_minor": 2
}
