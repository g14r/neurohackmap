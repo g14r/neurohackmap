{
 "cells": [
  {
   "cell_type": "code",
   "execution_count": 1,
   "metadata": {},
   "outputs": [],
   "source": [
    "# install libraries\n",
    "import pandas as pd\n",
    "import folium\n",
    "import geopy"
   ]
  },
  {
   "cell_type": "code",
   "execution_count": 19,
   "metadata": {},
   "outputs": [
    {
     "name": "stdout",
     "output_type": "stream",
     "text": [
      "Verona, Italy\n",
      "Northampton, England\n",
      "Hong Kong \n",
      "Novosibirsk, Russia\n"
     ]
    }
   ],
   "source": [
    "#load in data \n",
    "df_data = pd.read_csv('NeuroMap_answers.csv')\n",
    "\n",
    "#view data\n",
    "df_data.head()\n",
    "\n",
    "#Get the column with hometown location\n",
    "locs = df_data.iloc[:,2]\n",
    "\n",
    "#len(locs)\n",
    "type(locs)\n",
    "for loc in locs:\n",
    "    print(loc)"
   ]
  },
  {
   "cell_type": "code",
   "execution_count": 18,
   "metadata": {},
   "outputs": [
    {
     "data": {
      "text/plain": [
       "'Verona, Italy'"
      ]
     },
     "execution_count": 18,
     "metadata": {},
     "output_type": "execute_result"
    }
   ],
   "source": [
    "locs[0]"
   ]
  },
  {
   "cell_type": "code",
   "execution_count": 4,
   "metadata": {},
   "outputs": [],
   "source": [
    "#generate a folium map\n",
    "#folium.Map()"
   ]
  },
  {
   "cell_type": "code",
   "execution_count": 5,
   "metadata": {},
   "outputs": [
    {
     "name": "stdout",
     "output_type": "stream",
     "text": [
      "Wollongong, NSW, 2500, Australia\n",
      "(-34.4243941, 150.89385)\n"
     ]
    }
   ],
   "source": [
    "# create column of latitude and longitude from city information\n",
    "# use geopy https://geopy.readthedocs.io/en/latest/\n",
    "from geopy.geocoders import Nominatim\n",
    "geolocator = Nominatim(user_agent=\"neuromap\")\n",
    "location = geolocator.geocode(\"Wollongong, NSW, Australia\")\n",
    "print(location.address)\n",
    "print((location.latitude, location.longitude))"
   ]
  },
  {
   "cell_type": "code",
   "execution_count": 6,
   "metadata": {},
   "outputs": [
    {
     "name": "stdout",
     "output_type": "stream",
     "text": [
      "(45.4384958, 10.9924122)\n",
      "(52.2385239, -0.902493)\n",
      "(22.2793278, 114.1628131)\n",
      "(55.0282171, 82.9234509)\n"
     ]
    },
    {
     "data": {
      "text/plain": [
       "0     10.992412\n",
       "1     -0.902493\n",
       "2    114.162813\n",
       "3     82.923451\n",
       "Name: HometownLongitude, dtype: float64"
      ]
     },
     "execution_count": 6,
     "metadata": {},
     "output_type": "execute_result"
    }
   ],
   "source": [
    "#Loop through rows to get all the locations\n",
    "from geopy.geocoders import Nominatim\n",
    "geolocator = Nominatim(user_agent=\"neuromap\")\n",
    "\n",
    "#Get the longitude and latitude of the hometowns\n",
    "lat=[]\n",
    "long=[]\n",
    "for location in df_data.iloc[:, 2]:\n",
    "    location_1 = geolocator.geocode(location)\n",
    "    print((location_1.latitude, location_1.longitude))\n",
    "    \n",
    "    lat.append(location_1.latitude)\n",
    "    long.append(location_1.longitude)\n",
    "\n",
    "    \n",
    "df_data['HometownLatitude']=lat\n",
    "df_data['HometownLatitude'].astype('float')\n",
    "\n",
    "df_data['HometownLongitude']=long\n",
    "df_data['HometownLongitude'].astype('float')"
   ]
  },
  {
   "cell_type": "code",
   "execution_count": 23,
   "metadata": {},
   "outputs": [
    {
     "data": {
      "text/html": [
       "<div style=\"width:100%;\"><div style=\"position:relative;width:100%;height:0;padding-bottom:60%;\"><iframe src=\"data:text/html;charset=utf-8;base64,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\" style=\"position:absolute;width:100%;height:100%;left:0;top:0;border:none !important;\" allowfullscreen webkitallowfullscreen mozallowfullscreen></iframe></div></div>"
      ],
      "text/plain": [
       "<folium.folium.Map at 0x11a6324e0>"
      ]
     },
     "execution_count": 23,
     "metadata": {},
     "output_type": "execute_result"
    }
   ],
   "source": [
    "#Try to plot the locations on the map!\n",
    "m = folium.Map()\n",
    "\n",
    "#(location=[location_1.latitude, location_1.longitude])\n",
    "\n",
    "#Loop through locations and add the markers on the map\n",
    "for l in range(len(locs)):\n",
    "    folium.Marker([lat[l], long[l]], popup=locs[l]).add_to(m)\n",
    "m"
   ]
  },
  {
   "cell_type": "code",
   "execution_count": 21,
   "metadata": {},
   "outputs": [
    {
     "data": {
      "text/plain": [
       "45.4384958"
      ]
     },
     "execution_count": 21,
     "metadata": {},
     "output_type": "execute_result"
    }
   ],
   "source": [
    "lat[0]"
   ]
  },
  {
   "cell_type": "code",
   "execution_count": null,
   "metadata": {},
   "outputs": [],
   "source": [
    "def generateBaseMap(default_location=[-34.4243941, 150.89385], default_zoom_start=12):\n",
    "    base_map = folium.Map(location=default_location, control_scale=True, zoom_start=default_zoom_start)\n",
    "    return base_map\n",
    "#basemap\n",
    "m= folium.Map(default_location=[-34.4243941, 150.89385])"
   ]
  },
  {
   "cell_type": "code",
   "execution_count": null,
   "metadata": {},
   "outputs": [],
   "source": [
    "m = folium.Map(\n",
    "    location=[-34.4243941, 150.89385],\n",
    "    zoom_start=13\n",
    ")\n",
    "\n",
    "folium.Circle(\n",
    "    radius=100,\n",
    "    location=[-34.4243941, 150.89385],\n",
    "    popup='The Waterfront',\n",
    "    color='crimson',\n",
    "    fill=False,\n",
    ").add_to(m)\n",
    "\n",
    "folium.CircleMarker(\n",
    "    location=[-34.4243941, 150.89385],\n",
    "    radius=50,\n",
    "    popup='Laurelhurst Park',\n",
    "    color='#3186cc',\n",
    "    fill=True,\n",
    "    fill_color='#3186cc'\n",
    ").add_to(m)\n",
    "\n",
    "\n",
    "m"
   ]
  }
 ],
 "metadata": {
  "kernelspec": {
   "display_name": "Python 3",
   "language": "python",
   "name": "python3"
  },
  "language_info": {
   "codemirror_mode": {
    "name": "ipython",
    "version": 3
   },
   "file_extension": ".py",
   "mimetype": "text/x-python",
   "name": "python",
   "nbconvert_exporter": "python",
   "pygments_lexer": "ipython3",
   "version": "3.6.4"
  }
 },
 "nbformat": 4,
 "nbformat_minor": 2
}
