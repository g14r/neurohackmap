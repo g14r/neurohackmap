{
 "cells": [
  {
   "cell_type": "markdown",
   "metadata": {},
   "source": [
    "# Neuromap Project Neurohackademy 2019"
   ]
  },
  {
   "cell_type": "code",
   "execution_count": null,
   "metadata": {},
   "outputs": [],
   "source": [
    "# install libraries\n",
    "import pandas as pd\n",
    "import folium\n",
    "import geopy"
   ]
  },
  {
   "cell_type": "code",
   "execution_count": null,
   "metadata": {},
   "outputs": [],
   "source": [
    "#load in data \n",
    "df_data = pd.read_csv('NeuroMap_answers.csv')\n",
    "\n",
    "#view data\n",
    "df_data.head()\n",
    "\n",
    "#Get the column with hometown location\n",
    "locs = df_data.iloc[:,2]\n",
    "\n",
    "#len(locs)\n",
    "locs\n",
    "\n",
    "\n"
   ]
  },
  {
   "cell_type": "code",
   "execution_count": null,
   "metadata": {
    "scrolled": true
   },
   "outputs": [],
   "source": [
    "#generate a folium map\n",
    "folium.Map()"
   ]
  },
  {
   "cell_type": "code",
   "execution_count": null,
   "metadata": {},
   "outputs": [],
   "source": [
    "# create column of latitude and longitude from city information\n",
    "# use geopy https://geopy.readthedocs.io/en/latest/\n",
    "from geopy.geocoders import Nominatim\n",
    "geolocator = Nominatim(user_agent=\"neuromap\")\n",
    "location = geolocator.geocode(\"Wollongong, NSW, Australia\")\n",
    "print(location.address)\n",
    "print((location.latitude, location.longitude))"
   ]
  },
  {
   "cell_type": "code",
   "execution_count": null,
   "metadata": {},
   "outputs": [],
   "source": [
    "#Loop through rows to get all the locations\n",
    "from geopy.geocoders import Nominatim\n",
    "geolocator = Nominatim(user_agent=\"neuromap\")\n",
    "\n",
    "#Get the longitude and latitude of the hometowns\n",
    "lat=[]\n",
    "long=[]\n",
    "for location in df_data.iloc[:, 2]:\n",
    "    location_1 = geolocator.geocode(location)\n",
    "    print((location_1.latitude, location_1.longitude))\n",
    "    \n",
    "    lat.append(location_1.latitude)\n",
    "    long.append(location_1.longitude)\n",
    "\n",
    "    \n",
    "df_data['HometownLatitude']=lat\n",
    "df_data['HometownLatitude'].astype('float')\n",
    "\n",
    "df_data['HometownLongitude']=long\n",
    "df_data['HometownLongitude'].astype('float')"
   ]
  },
  {
   "cell_type": "code",
   "execution_count": null,
   "metadata": {},
   "outputs": [],
   "source": [
    "#Try to plot the locations on the map!\n",
    "m = folium.Map()\n",
    "\n",
    "#(location=[location_1.latitude, location_1.longitude])\n",
    "\n",
    "#Loop through locations and add the markers on the map\n",
    "for location in [0, 1, 2, 3]: #how to do this better?\n",
    "    folium.Marker([lat[location], long[location]], popup='city name').add_to(m)\n",
    "\n",
    "m\n"
   ]
  },
  {
   "cell_type": "code",
   "execution_count": null,
   "metadata": {},
   "outputs": [],
   "source": [
    "def generateBaseMap(default_location=[-34.4243941, 150.89385], default_zoom_start=12):\n",
    "    base_map = folium.Map(location=default_location, control_scale=True, zoom_start=default_zoom_start)\n",
    "    return base_map"
   ]
  },
  {
   "cell_type": "code",
   "execution_count": null,
   "metadata": {},
   "outputs": [],
   "source": [
    "base_map"
   ]
  },
  {
   "cell_type": "code",
   "execution_count": null,
   "metadata": {},
   "outputs": [],
   "source": [
    "m= folium.Map(default_location=[-34.4243941, 150.89385])"
   ]
  },
  {
   "cell_type": "code",
   "execution_count": null,
   "metadata": {},
   "outputs": [],
   "source": [
    "m = folium.Map(\n",
    "    location=[-34.4243941, 150.89385],\n",
    "    zoom_start=13\n",
    ")\n",
    "\n",
    "folium.Circle(\n",
    "    radius=100,\n",
    "    location=[-34.4243941, 150.89385],\n",
    "    popup='The Waterfront',\n",
    "    color='crimson',\n",
    "    fill=False,\n",
    ").add_to(m)\n",
    "\n",
    "folium.CircleMarker(\n",
    "    location=[-34.4243941, 150.89385],\n",
    "    radius=50,\n",
    "    popup='Laurelhurst Park',\n",
    "    color='#3186cc',\n",
    "    fill=True,\n",
    "    fill_color='#3186cc'\n",
    ").add_to(m)\n",
    "\n",
    "\n",
    "m"
   ]
  },
  {
   "cell_type": "code",
   "execution_count": null,
   "metadata": {},
   "outputs": [],
   "source": []
  }
 ],
 "metadata": {
  "kernelspec": {
   "display_name": "Python 3",
   "language": "python",
   "name": "python3"
  },
  "language_info": {
   "codemirror_mode": {
    "name": "ipython",
    "version": 3
   },
   "file_extension": ".py",
   "mimetype": "text/x-python",
   "name": "python",
   "nbconvert_exporter": "python",
   "pygments_lexer": "ipython3",
   "version": "3.7.1"
  }
 },
 "nbformat": 4,
 "nbformat_minor": 2
}
