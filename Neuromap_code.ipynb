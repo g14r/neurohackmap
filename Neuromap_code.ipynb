{
 "cells": [
  {
   "cell_type": "markdown",
   "metadata": {},
   "source": [
    "# Neuromap Project Neurohackademy 2019"
   ]
  },
  {
   "cell_type": "code",
   "execution_count": 1,
   "metadata": {},
   "outputs": [],
   "source": [
    "# install libraries/ set up script\n",
    "import pandas as pd\n",
    "import numpy as np\n",
    "import folium\n",
    "import geopy\n",
    "from geopy.geocoders import Nominatim\n",
    "geolocator = Nominatim(user_agent=\"neuromap\")"
   ]
  },
  {
   "cell_type": "code",
   "execution_count": 2,
   "metadata": {},
   "outputs": [],
   "source": [
    "# sets the defaults for viewing the dataframe\n",
    "pd.set_option('display.max_rows', 500)\n",
    "pd.set_option('display.max_columns', 500)\n",
    "pd.set_option('display.width', 1000)"
   ]
  },
  {
   "cell_type": "code",
   "execution_count": 4,
   "metadata": {},
   "outputs": [],
   "source": [
    "#identify missing values\n",
    "missing_values = [\"  \", \"-\"]\n",
    "df = pd.read_csv('NeuroMap-38responses.csv', na_values = missing_values, encoding='latin-1')\n",
    "\n",
    "#view data\n",
    "#df.head(20)"
   ]
  },
  {
   "cell_type": "code",
   "execution_count": 5,
   "metadata": {},
   "outputs": [],
   "source": [
    "# #clean data\n",
    "# # rename column questions to shorter\n",
    "df.columns = ['timestamp','consent','name','birthplace','birth_year', 'gender',\n",
    "              'undergrad_deg','undergrad_loc',  'undergrad_inst','undergrad_research',\n",
    "              'ra_qual','ra_lm_loc', 'ra_lm_inst', 'ra_lm_research',\n",
    "              'masters_qual','masters_loc', 'masters_inst', 'masters_research', \n",
    "              'phd_qual','phd_loc', 'phd_inst', 'phd_research',\n",
    "              'post_doc_qual', 'postdoc_loc' ,'postdoc_inst','postdoc_research', \n",
    "            'faculty_qual', 'faculty_loc', 'faculty_inst', 'faculty_research',\n",
    "              'google_scholar']\n",
    "\n",
    "# change white spaces (blanks) to NaN\n",
    "#df.replace(r'^\\s+$', np.nan, regex=True)\n",
    "\n",
    "replace_dict_undergrad = {\n",
    "    \"Tijuana, Baja California, MÌ©xico\": \"Tijuana, Baja California, Mexico\",\n",
    "    'Raleigh & Chapel Hill, North Carolina, USA': 'Chapel Hill, North Carolina, USA'\n",
    "}\n",
    "df['undergrad_loc'] = df['undergrad_loc'].replace(replace_dict_undergrad) \n",
    "\n",
    "replace_dict_research = {\n",
    "    'Central Institute of Chemistry and Mechanics': 'Nagatinskaya, Moscow, Russia'\n",
    "}\n",
    "df['ra_lm_loc'] = df['ra_lm_loc'].replace(replace_dict_research)\n",
    "\n",
    "replace_dict_phd = {\n",
    "    'Rio de Janeiro, Brazil AND Montreal, Canada': 'Rio de Janeiro, Brazil'\n",
    "}\n",
    "df['phd_loc'] = df['phd_loc'].replace(replace_dict_phd) "
   ]
  },
  {
   "cell_type": "code",
   "execution_count": null,
   "metadata": {
    "scrolled": true
   },
   "outputs": [],
   "source": [
    "#Loop through rows to get the longitude and latitude of the hometowns\n",
    "lat=[]\n",
    "long=[]\n",
    "for home_location in df.loc[:,\"birthplace\"]:\n",
    "    location_1 = geolocator.geocode(home_location, timeout=10)\n",
    "    #print((location_1.latitude, location_1.longitude))\n",
    "    \n",
    "    lat.append(location_1.latitude)\n",
    "    long.append(location_1.longitude)\n",
    "\n",
    "#Saving lat and long in separate columns in the dataframe    \n",
    "df['HometownLatitude'] = lat\n",
    "df['HometownLatitude'] = df['HometownLatitude'].astype('float')\n",
    "\n",
    "df['HometownLongitude'] = long\n",
    "df['HometownLatitude'] = df['HometownLongitude'].astype('float')\n",
    "#df.head(20)"
   ]
  },
  {
   "cell_type": "code",
   "execution_count": 7,
   "metadata": {
    "scrolled": true
   },
   "outputs": [
    {
     "name": "stdout",
     "output_type": "stream",
     "text": [
      "Trento, Trentino, Italy\n"
     ]
    }
   ],
   "source": [
    "print(home_location)"
   ]
  },
  {
   "cell_type": "code",
   "execution_count": 8,
   "metadata": {},
   "outputs": [
    {
     "ename": "NameError",
     "evalue": "name 'locs' is not defined",
     "output_type": "error",
     "traceback": [
      "\u001b[0;31m---------------------------------------------------------------------------\u001b[0m",
      "\u001b[0;31mNameError\u001b[0m                                 Traceback (most recent call last)",
      "\u001b[0;32m<ipython-input-8-fe1db68fb98a>\u001b[0m in \u001b[0;36m<module>\u001b[0;34m\u001b[0m\n\u001b[0;32m----> 1\u001b[0;31m \u001b[0mprint\u001b[0m\u001b[0;34m(\u001b[0m\u001b[0mlocs\u001b[0m\u001b[0;34m)\u001b[0m\u001b[0;34m\u001b[0m\u001b[0;34m\u001b[0m\u001b[0m\n\u001b[0m",
      "\u001b[0;31mNameError\u001b[0m: name 'locs' is not defined"
     ]
    }
   ],
   "source": [
    "print(locs)"
   ]
  },
  {
   "cell_type": "code",
   "execution_count": null,
   "metadata": {},
   "outputs": [],
   "source": [
    "#Get the column with hometown location\n",
    "locs = df.loc[:,\"birthplace\"]\n",
    "\n",
    "#Plot hometown locations on the map!\n",
    "birth_map = folium.Map()\n",
    "\n",
    "#(location=[location_1.latitude, location_1.longitude])\n",
    "\n",
    "#Loop through locations and add the markers on the map\n",
    "for home_location in range(len(locs)): \n",
    "    folium.Marker([lat[home_location], long[home_location]], popup=locs[home_location]).add_to(m)\n",
    "\n",
    "birth_map"
   ]
  },
  {
   "cell_type": "code",
   "execution_count": null,
   "metadata": {},
   "outputs": [],
   "source": [
    "#Try plotting the same but with different markers (circles!)\n",
    "locs = df.loc[:,\"birthplace\"]\n",
    "#Plot hometown locations on the map!\n",
    "m = folium.Map()\n",
    "#Loop through locations and add the markers on the map\n",
    "for home_location in range(len(locs)):\n",
    "   folium.Circle(\n",
    "   radius=300,\n",
    "   location=[lat[home_location], long[home_location]],\n",
    "   popup=locs[home_location],\n",
    "   color='crimson',\n",
    "   fill=False,\n",
    ").add_to(m)\n",
    "m"
   ]
  },
  {
   "cell_type": "code",
   "execution_count": 6,
   "metadata": {},
   "outputs": [],
   "source": [
    "#Loop through rows to get the longitude and latitude of the undergrad_cities (be aware of missing data)\n",
    "lat_list = []\n",
    "long_list = []\n",
    "for undergrad_location in df['undergrad_loc']:\n",
    "    #print(location_1)\n",
    "    \n",
    "    if pd.isnull(undergrad_location):\n",
    "        lat = None\n",
    "        long = None\n",
    "    else:\n",
    "        location_1 = geolocator.geocode(undergrad_location, timeout=10)\n",
    "        if location_1 is None:\n",
    "            raise ValueError(\"Geocode failed\")\n",
    "        lat = location_1.latitude\n",
    "        long = location_1.longitude\n",
    "    \n",
    "    lat_list.append(lat)\n",
    "    long_list.append(long)\n",
    "    #print((lat,long,location))\n",
    "        \n",
    "# #Saving lat and long in separate columns in the dataframe    \n",
    "df['UndergradLatitude' ] = lat_list\n",
    "df['UndergradLatitude'] = df['UndergradLatitude'].astype('float')\n",
    "\n",
    "df['UndergradLongitude'] = long_list\n",
    "df['UndergradLatitude'] = df['UndergradLongitude'].astype('float')\n",
    "#df.head(40)"
   ]
  },
  {
   "cell_type": "code",
   "execution_count": null,
   "metadata": {},
   "outputs": [],
   "source": [
    "# create a map with undergrad locations\n",
    "df_undergrad = df.loc[:,\"UndergradLatitude\":\"UndergradLongitude\"] #create a subset of df to deal with the na problem\n",
    "df_undergrad = df_undergrad.dropna()\n",
    "undergrad_locs = df.loc[:,\"undergrad_loc\"]\n",
    "#print(df_undergrad)\n",
    "\n",
    "if None in lat_list: lat_list.remove(None)\n",
    "if None in long_list: long_list.remove(None)\n",
    "undergrad_locs = [x for x in undergrad_locs if pd.notna(x)]"
   ]
  },
  {
   "cell_type": "code",
   "execution_count": null,
   "metadata": {},
   "outputs": [],
   "source": [
    "# check formats are correct with the NA values removed\n",
    "print(lat_list)\n",
    "print(long_list)\n",
    "print(undergrad_locs)\n",
    "type(undergrad_locs)"
   ]
  },
  {
   "cell_type": "code",
   "execution_count": null,
   "metadata": {},
   "outputs": [],
   "source": [
    "# undergrad locations plotting \n",
    "undergrad_map = folium.Map()\n",
    "#Loop through locations and add the markers on the map\n",
    "for undergrad_location in range(len(undergrad_locs)): \n",
    "    folium.Marker([lat_list[undergrad_location], long_list[undergrad_location]], popup=undergrad_locs[undergrad_location]).add_to(m)\n",
    "    \n",
    "#display map\n",
    "undergrad_map"
   ]
  },
  {
   "cell_type": "code",
   "execution_count": null,
   "metadata": {
    "scrolled": true
   },
   "outputs": [],
   "source": [
    "# create RA locations \n",
    "# Loop through rows to get the longitude and latitude of the RA_locations (be aware of missing data)\n",
    "lat_list = []\n",
    "long_list = []\n",
    "for research_location in df['ra_lm_loc']:\n",
    "    #print(location_1)\n",
    "    \n",
    "    if pd.isnull(research_location):\n",
    "        lat = None\n",
    "        long = None\n",
    "    else:\n",
    "        location_1 = geolocator.geocode(research_location, timeout=10)\n",
    "        if location_1 is None:\n",
    "            raise ValueError(\"Geocode failed\")\n",
    "        lat = location_1.latitude\n",
    "        long = location_1.longitude\n",
    "    \n",
    "    lat_list.append(lat)\n",
    "    long_list.append(long)\n",
    "    print((lat,long,research_location))\n",
    "        \n",
    "# #Saving lat and long in separate columns in the dataframe    \n",
    "df['RA_LM_Latitude' ] = lat_list\n",
    "df['RA_LM_Latitude'] = df['RA_LM_Latitude'].astype('float')\n",
    "\n",
    "df['RA_LM_Longitude'] = long_list\n",
    "df['RA_LM_Latitude'] = df['RA_LM_Longitude'].astype('float')\n",
    "#df.head(40)\n"
   ]
  },
  {
   "cell_type": "code",
   "execution_count": null,
   "metadata": {
    "scrolled": true
   },
   "outputs": [],
   "source": [
    "# create a map with research position locations\n",
    "df_research = df.loc[:,\"RA_LM_Latitude\":\"RA_LM_Longitude\"] #create a subset of df to deal with the na problem\n",
    "df_research = df_research.dropna()\n",
    "research_locs = df.loc[:,\"ra_lm_loc\"]\n",
    "#print(df_undergrad)\n",
    "\n",
    "lat_list = list(filter(None, lat_list))\n",
    "long_list = list(filter(None, long_list))\n",
    "research_locs = [x for x in research_locs if pd.notna(x)]"
   ]
  },
  {
   "cell_type": "code",
   "execution_count": null,
   "metadata": {},
   "outputs": [],
   "source": [
    "# check formats are correct with the NA values removed\n",
    "print(lat_list)\n",
    "print(long_list)\n",
    "print(research_locs)\n",
    "type(research_locs)"
   ]
  },
  {
   "cell_type": "code",
   "execution_count": null,
   "metadata": {},
   "outputs": [],
   "source": [
    "# research locations plotting \n",
    "research_map = folium.Map()\n",
    "#Loop through locations and add the markers on the map\n",
    "for research_location in range(len(research_locs)): \n",
    "    folium.Marker([lat_list[research_location], long_list[research_location]], popup=research_locs[research_location]).add_to(m)\n",
    "\n",
    "#display map\n",
    "research_map"
   ]
  },
  {
   "cell_type": "code",
   "execution_count": 5,
   "metadata": {
    "scrolled": true
   },
   "outputs": [
    {
     "name": "stdout",
     "output_type": "stream",
     "text": [
      "(40.4416941, -79.9900861, 'Pittsburgh, PA, USA')\n",
      "(45.886548, 11.0452369, 'Rovereto, Trentino, Italy')\n",
      "(-37.8142176, 144.9631608, 'Melbourne, Victoria, Australia')\n",
      "(52.4775396, -1.894053, 'Birmingham, UK')\n",
      "(39.9527237, -75.1635262, 'Philadelphia, PA, USA')\n",
      "(38.8950092, -77.0365625, 'Washington, DC')\n",
      "(50.1106444, 8.6820917, 'Frankfurt, Germany')\n",
      "(48.8566101, 2.3514992, 'Paris/France')\n",
      "(32.7174209, -117.1627714, 'San Diego, CA, USA')\n",
      "(40.3492744, -74.6592958, 'Princeton, NJ, USA')\n",
      "(47.6038321, -122.3300624, 'Seattle, WA, United States')\n",
      "(25.7742658, -80.1936589, 'Miami, FL, USA')\n",
      "(53.9590555, -1.0815361, 'York, UK')\n",
      "(53.550341, 10.000654, 'Hamburg, Germany')\n",
      "(40.4416941, -79.9900861, 'Pittsburgh, PA')\n",
      "(37.5666791, 126.9782914, 'Seoul, South Korea')\n",
      "(None, None, nan)\n",
      "(51.5073219, -0.1276474, 'London, United Kingdom')\n",
      "(52.1518157, 4.48110886662043, 'Leiden, the Netherlands')\n",
      "(42.3602534, -71.0582912, 'Boston, MA, USA')\n",
      "(34.4221319, -119.7026673, 'Santa Barbara, California, USA')\n",
      "(43.703622, -72.288666, 'Hanover, New Hampshire, USA')\n",
      "(35.5306348, -92.7907215, 'Austin, TX, USA')\n",
      "(-22.9110137, -43.2093727, 'Rio de Janeiro, Brazil')\n",
      "(38.6268039, -90.1994097, 'St. Louis, MO, USA')\n",
      "(31.778345, 35.2250786, 'Jerusalem, Israel')\n",
      "(39.1670396, -86.5342881, 'Bloomington, IN, USA')\n",
      "(45.886548, 11.0452369, 'Rovereto, Italy')\n",
      "(37.8708393, -122.2728639, 'Berkeley, CA, USA')\n",
      "(42.3602534, -71.0582912, 'Boston, MA USA')\n",
      "(51.4893335, -0.144055084527687, 'London, London, UK')\n",
      "(43.157285, -77.615214, 'Rochester, NY, USA')\n",
      "(38.8950092, -77.0365625, 'Washington, DC, US')\n",
      "(42.9537654, -81.2291529, 'London, Ontario, Canada')\n",
      "(37.8708393, -122.2728639, 'Berkeley, CA, USA')\n",
      "(42.3750997, -71.1056157, 'Cambridge, MA USA')\n",
      "(37.8708393, -122.2728639, 'Berkeley, CA, USA')\n",
      "(51.7520131, -1.2578499, 'Oxford, Oxfordshire, United Kingdom')\n"
     ]
    },
    {
     "data": {
      "text/html": [
       "<div style=\"width:100%;\"><div style=\"position:relative;width:100%;height:0;padding-bottom:60%;\"><iframe src=\"data:text/html;charset=utf-8;base64,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\" style=\"position:absolute;width:100%;height:100%;left:0;top:0;border:none !important;\" allowfullscreen webkitallowfullscreen mozallowfullscreen></iframe></div></div>"
      ],
      "text/plain": [
       "<folium.folium.Map at 0x11dd67f28>"
      ]
     },
     "execution_count": 5,
     "metadata": {},
     "output_type": "execute_result"
    }
   ],
   "source": [
    "# create PHD/Doctoral locations \n",
    "# Loop through rows to get the longitude and latitude of the RA_locations (be aware of missing data)\n",
    "lat_list = []\n",
    "long_list = []\n",
    "for phd_location in df['phd_loc']:\n",
    "    #print(location_1)\n",
    "    \n",
    "    if pd.isnull(phd_location):\n",
    "        lat = None\n",
    "        long = None\n",
    "    else:\n",
    "        location_1 = geolocator.geocode(phd_location, timeout=10)\n",
    "        if location_1 is None:\n",
    "            raise ValueError(\"Geocode failed\")\n",
    "        lat = location_1.latitude\n",
    "        long = location_1.longitude\n",
    "    \n",
    "    lat_list.append(lat)\n",
    "    long_list.append(long)\n",
    "    print((lat,long,phd_location))\n",
    "        \n",
    "# #Saving lat and long in separate columns in the dataframe    \n",
    "df['PHD_Latitude' ] = lat_list\n",
    "df['PHD_Latitude'] = df['PHD_Latitude'].astype('float')\n",
    "\n",
    "df['PHD_Longitude'] = long_list\n",
    "df['PHD_Latitude'] = df['PHD_Longitude'].astype('float')\n",
    "#df.head(40)\n",
    "\n",
    "# create a map with research position locations\n",
    "df_phd = df.loc[:,\"PHD_Longitude\":\"PHD_Latitude\"] #create a subset of df to deal with the na problem\n",
    "df_phd = df_phd.dropna()\n",
    "phd_locs = df.loc[:,\"phd_loc\"]\n",
    "#print(df_undergrad)\n",
    "\n",
    "lat_list = list(filter(None, lat_list))\n",
    "long_list = list(filter(None, long_list))\n",
    "phd_locs = [x for x in phd_locs if pd.notna(x)]\n",
    "\n",
    "# research locations plotting \n",
    "phd_map = folium.Map()\n",
    "#Loop through locations and add the markers on the map\n",
    "for phd_location in range(len(phd_locs)): \n",
    "    folium.Marker([lat_list[phd_location], long_list[phd_location]], popup=phd_locs[phd_location]).add_to(m)\n",
    "\n",
    "#display map    \n",
    "phd_map\n"
   ]
  },
  {
   "cell_type": "code",
   "execution_count": null,
   "metadata": {},
   "outputs": [],
   "source": []
  },
  {
   "cell_type": "code",
   "execution_count": null,
   "metadata": {},
   "outputs": [],
   "source": [
    "# practice plotting with circles \n",
    "\n",
    "m = folium.Map(\n",
    "    location=[-34.4243941, 150.89385],\n",
    "    zoom_start=13\n",
    ")\n",
    "\n",
    "folium.Circle(\n",
    "    radius=100,\n",
    "    location=[-34.4243941, 150.89385],\n",
    "    popup='The Waterfront',\n",
    "    color='crimson',\n",
    "    fill=False,\n",
    ").add_to(m)\n",
    "\n",
    "folium.CircleMarker(\n",
    "    location=[-34.4243941, 150.89385],\n",
    "    radius=50,\n",
    "    popup='Laurelhurst Park',\n",
    "    color='#3186cc',\n",
    "    fill=True,\n",
    "    fill_color='#3186cc'\n",
    ").add_to(m)\n",
    "\n",
    "\n",
    "m"
   ]
  },
  {
   "cell_type": "code",
   "execution_count": null,
   "metadata": {},
   "outputs": [],
   "source": [
    "df.head(20)"
   ]
  },
  {
   "cell_type": "code",
   "execution_count": null,
   "metadata": {},
   "outputs": [],
   "source": []
  }
 ],
 "metadata": {
  "kernelspec": {
   "display_name": "Python 3",
   "language": "python",
   "name": "python3"
  },
  "language_info": {
   "codemirror_mode": {
    "name": "ipython",
    "version": 3
   },
   "file_extension": ".py",
   "mimetype": "text/x-python",
   "name": "python",
   "nbconvert_exporter": "python",
   "pygments_lexer": "ipython3",
   "version": "3.7.1"
  }
 },
 "nbformat": 4,
 "nbformat_minor": 2
}
