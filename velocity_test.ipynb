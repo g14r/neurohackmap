{
 "cells": [
  {
   "cell_type": "code",
   "execution_count": 10,
   "metadata": {},
   "outputs": [],
   "source": [
    "from ipyleaflet import Map, Velocity, TileLayer, basemaps\n",
    "import xarray as xr\n",
    "import numpy as np"
   ]
  },
  {
   "cell_type": "code",
   "execution_count": 37,
   "metadata": {},
   "outputs": [
    {
     "data": {
      "application/vnd.jupyter.widget-view+json": {
       "model_id": "b73b5050452a462ab8edf2795b943af7",
       "version_major": 2,
       "version_minor": 0
      },
      "text/plain": [
       "Map(basemap={'url': 'http://c.basemaps.cartocdn.com/dark_all/{z}/{x}/{y}.png', 'max_zoom': 20, 'attribution': …"
      ]
     },
     "metadata": {},
     "output_type": "display_data"
    }
   ],
   "source": [
    "#center = [44.33956524809713, -130.60546875000003]\n",
    "zoom = 2\n",
    "m = Map(center=center, zoom=zoom, interpolation='nearest', basemap=basemaps.CartoDB.DarkMatter)\n",
    "m"
   ]
  },
  {
   "cell_type": "code",
   "execution_count": 5,
   "metadata": {},
   "outputs": [],
   "source": [
    "import os\n",
    "\n",
    "if not os.path.exists('wind-global.nc'):\n",
    "    url = 'https://github.com/benbovy/xvelmap/raw/master/notebooks/wind-global.nc'\n",
    "    import requests\n",
    "    r = requests.get(url)\n",
    "    wind_data = r.content\n",
    "    with open('wind-global.nc', 'wb') as f:\n",
    "        f.write(wind_data)"
   ]
  },
  {
   "cell_type": "code",
   "execution_count": 28,
   "metadata": {},
   "outputs": [
    {
     "data": {
      "text/plain": [
       "<xarray.Dataset>\n",
       "Dimensions:  (lat: 181, lon: 360)\n",
       "Coordinates:\n",
       "  * lat      (lat) float64 90.0 89.0 88.0 87.0 86.0 ... -87.0 -88.0 -89.0 -90.0\n",
       "  * lon      (lon) float64 0.0 1.0 2.0 3.0 4.0 ... 355.0 356.0 357.0 358.0 359.0\n",
       "Data variables:\n",
       "    u_wind   (lat, lon) float64 ...\n",
       "    v_wind   (lat, lon) float64 ...\n",
       "Attributes:\n",
       "    centerName:      US National Weather Service - NCEP(WMC)\n",
       "    disciplineName:  Meteorological products\n",
       "    refTime:         2016-04-30T06:00:00.000Z"
      ]
     },
     "execution_count": 28,
     "metadata": {},
     "output_type": "execute_result"
    }
   ],
   "source": [
    "ds = xr.open_dataset('wind-global.nc')\n",
    "ds"
   ]
  },
  {
   "cell_type": "code",
   "execution_count": 38,
   "metadata": {},
   "outputs": [],
   "source": [
    "display_options = {\n",
    "    #'velocityType': 'Global Wind',\n",
    "    #'displayPosition': 'bottomleft',\n",
    "    'displayEmptyString': 'No wind data'\n",
    "}\n",
    "wind = Velocity(\n",
    "    data=ds, \n",
    "    zonal_speed='u_wind', meridional_speed='v_wind', \n",
    "    latitude_dimension='lat', longitude_dimension='lon', \n",
    "    velocity_scale=0.01, max_velocity=1, \n",
    "    display_options=display_options\n",
    ")\n",
    "m.add_layer(wind)"
   ]
  },
  {
   "cell_type": "code",
   "execution_count": 16,
   "metadata": {},
   "outputs": [],
   "source": [
    "#Velocity?"
   ]
  },
  {
   "cell_type": "code",
   "execution_count": 31,
   "metadata": {},
   "outputs": [],
   "source": [
    "#m.options"
   ]
  },
  {
   "cell_type": "code",
   "execution_count": null,
   "metadata": {},
   "outputs": [],
   "source": []
  }
 ],
 "metadata": {
  "kernelspec": {
   "display_name": "Python 3",
   "language": "python",
   "name": "python3"
  },
  "language_info": {
   "codemirror_mode": {
    "name": "ipython",
    "version": 3
   },
   "file_extension": ".py",
   "mimetype": "text/x-python",
   "name": "python",
   "nbconvert_exporter": "python",
   "pygments_lexer": "ipython3",
   "version": "3.6.4"
  }
 },
 "nbformat": 4,
 "nbformat_minor": 2
}
