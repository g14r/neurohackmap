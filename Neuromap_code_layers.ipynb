{
 "cells": [
  {
   "cell_type": "markdown",
   "metadata": {},
   "source": [
    "# Neuromap Project Neurohackademy 2019"
   ]
  },
  {
   "cell_type": "code",
   "execution_count": 1,
   "metadata": {},
   "outputs": [],
   "source": [
    "# install libraries/ set up script\n",
    "import pandas as pd\n",
    "import numpy as np\n",
    "import folium\n",
    "import geopy\n",
    "from geopy.geocoders import Nominatim\n",
    "geolocator = Nominatim(user_agent=\"neuromap\")"
   ]
  },
  {
   "cell_type": "code",
   "execution_count": 2,
   "metadata": {},
   "outputs": [],
   "source": [
    "# sets the defaults for viewing the dataframe\n",
    "pd.set_option('display.max_rows', 500)\n",
    "pd.set_option('display.max_columns', 500)\n",
    "pd.set_option('display.width', 1000)"
   ]
  },
  {
   "cell_type": "code",
   "execution_count": 3,
   "metadata": {},
   "outputs": [],
   "source": [
    "#identify missing values\n",
    "missing_values = [\"  \", \"-\"]\n",
    "df = pd.read_csv('NeuroMap-38responses.csv', na_values = missing_values, encoding='latin-1')\n",
    "\n",
    "#view data\n",
    "#df.head(20)"
   ]
  },
  {
   "cell_type": "code",
   "execution_count": 4,
   "metadata": {},
   "outputs": [],
   "source": [
    "# #clean data\n",
    "# # rename column questions to shorter\n",
    "df.columns = ['timestamp','consent','name','birthplace','birth_year', 'gender',\n",
    "              'undergrad_deg','undergrad_loc',  'undergrad_inst','undergrad_research',\n",
    "              'ra_qual','ra_lm_loc', 'ra_lm_inst', 'ra_lm_research',\n",
    "              'masters_qual','masters_loc', 'masters_inst', 'masters_research', \n",
    "              'phd_qual','phd_loc', 'phd_inst', 'phd_research',\n",
    "              'post_doc_qual', 'postdoc_loc' ,'postdoc_inst','postdoc_research', \n",
    "            'faculty_qual', 'faculty_loc', 'faculty_inst', 'faculty_research',\n",
    "              'google_scholar']\n",
    "\n",
    "# change white spaces (blanks) to NaN\n",
    "#df.replace(r'^\\s+$', np.nan, regex=True)\n",
    "\n",
    "replace_dict_undergrad = {\n",
    "    \"Tijuana, Baja California, MÌ©xico\": \"Tijuana, Baja California, Mexico\",\n",
    "    'Raleigh & Chapel Hill, North Carolina, USA': 'Chapel Hill, North Carolina, USA'\n",
    "}\n",
    "df['undergrad_loc'] = df['undergrad_loc'].replace(replace_dict_undergrad) \n",
    "\n",
    "replace_dict_research = {\n",
    "    'Central Institute of Chemistry and Mechanics': 'Nagatinskaya, Moscow, Russia'\n",
    "}\n",
    "df['ra_lm_loc'] = df['ra_lm_loc'].replace(replace_dict_research)\n",
    "\n",
    "replace_dict_phd = {\n",
    "    'Rio de Janeiro, Brazil AND Montreal, Canada': 'Rio de Janeiro, Brazil'\n",
    "}\n",
    "df['phd_loc'] = df['phd_loc'].replace(replace_dict_phd) "
   ]
  },
  {
   "cell_type": "code",
   "execution_count": 5,
   "metadata": {
    "scrolled": true
   },
   "outputs": [],
   "source": [
    "#Loop through rows to get the longitude and latitude of the hometowns\n",
    "lat=[]\n",
    "long=[]\n",
    "for home_location in df.loc[:,\"birthplace\"]:\n",
    "    location_1 = geolocator.geocode(home_location, timeout=10)\n",
    "    #print((location_1.latitude, location_1.longitude))\n",
    "    \n",
    "    lat.append(location_1.latitude)\n",
    "    long.append(location_1.longitude)\n",
    "\n",
    "#Saving lat and long in separate columns in the dataframe    \n",
    "df['HometownLatitude'] = lat\n",
    "df['HometownLatitude'] = df['HometownLatitude'].astype('float')\n",
    "\n",
    "df['HometownLongitude'] = long\n",
    "df['HometownLatitude'] = df['HometownLongitude'].astype('float')\n",
    "#df.head(20)"
   ]
  },
  {
   "cell_type": "code",
   "execution_count": 10,
   "metadata": {
    "scrolled": true
   },
   "outputs": [
    {
     "data": {
      "text/plain": [
       "[41.8239891,\n",
       " 45.886548,\n",
       " -34.4243941,\n",
       " 22.2793278,\n",
       " 42.2681569,\n",
       " 38.9719384,\n",
       " -34.6075616,\n",
       " 55.7504461,\n",
       " 18.9387711,\n",
       " 37.4443293,\n",
       " 40.4258686,\n",
       " 32.527002,\n",
       " 25.0375198,\n",
       " 29.8693496,\n",
       " 42.0128695,\n",
       " 37.5666791,\n",
       " 32.5010188,\n",
       " None,\n",
       " 52.1518157,\n",
       " 36.1556805,\n",
       " 33.5778631,\n",
       " 34.0536909,\n",
       " 33.7872568,\n",
       " -22.9110137,\n",
       " 45.421106,\n",
       " 31.778345,\n",
       " 35.9131542,\n",
       " 55.0282171,\n",
       " 29.9499323,\n",
       " 43.0821793,\n",
       " 35.7006177,\n",
       " 40.7127281,\n",
       " 38.8339578,\n",
       " 43.653963,\n",
       " 31.778345,\n",
       " 43.157285,\n",
       " 34.0966764,\n",
       " 51.4893335]"
      ]
     },
     "execution_count": 10,
     "metadata": {},
     "output_type": "execute_result"
    }
   ],
   "source": [
    "#print(home_location)\n",
    "lat_list"
   ]
  },
  {
   "cell_type": "code",
   "execution_count": null,
   "metadata": {},
   "outputs": [],
   "source": [
    "#print(locs)"
   ]
  },
  {
   "cell_type": "code",
   "execution_count": 7,
   "metadata": {},
   "outputs": [],
   "source": [
    "#Get the column with hometown location\n",
    "locs = df.loc[:,\"birthplace\"]\n",
    "\n",
    "#Plot hometown locations on the map!\n",
    "birth_map = folium.Map()\n",
    "\n",
    "#(location=[location_1.latitude, location_1.longitude])\n",
    "\n",
    "#Loop through locations and add the markers on the map\n",
    "for home_location in range(len(locs)): \n",
    "    folium.Marker([lat[home_location], long[home_location]], popup=locs[home_location]).add_to(birth_map)\n",
    "\n",
    "#birth_map"
   ]
  },
  {
   "cell_type": "code",
   "execution_count": null,
   "metadata": {},
   "outputs": [],
   "source": [
    "#Try plotting the same but with different markers (circles!)\n",
    "locs = df.loc[:,\"birthplace\"]\n",
    "#Plot hometown locations on the map!\n",
    "m = folium.Map()\n",
    "#Loop through locations and add the markers on the map\n",
    "for home_location in range(len(locs)):\n",
    "   folium.Circle(\n",
    "   radius=300,\n",
    "   location=[lat[home_location], long[home_location]],\n",
    "   popup=locs[home_location],\n",
    "   color='crimson',\n",
    "   fill=False,\n",
    ").add_to(m)\n",
    "m"
   ]
  },
  {
   "cell_type": "code",
   "execution_count": 8,
   "metadata": {},
   "outputs": [],
   "source": [
    "#Loop through rows to get the longitude and latitude of the undergrad_cities (be aware of missing data)\n",
    "lat_list = []\n",
    "long_list = []\n",
    "for undergrad_location in df['undergrad_loc']:\n",
    "    #print(location_1)\n",
    "    \n",
    "    if pd.isnull(undergrad_location):\n",
    "        lat2 = None\n",
    "        long2 = None\n",
    "    else:\n",
    "        location_1 = geolocator.geocode(undergrad_location, timeout=10)\n",
    "        if location_1 is None:\n",
    "            raise ValueError(\"Geocode failed\")\n",
    "        lat2 = location_1.latitude\n",
    "        long2 = location_1.longitude\n",
    "    \n",
    "    lat_list.append(lat2)\n",
    "    long_list.append(long2)\n",
    "    #print((lat,long,location))\n",
    "        \n",
    "# #Saving lat and long in separate columns in the dataframe    \n",
    "df['UndergradLatitude' ] = lat_list\n",
    "df['UndergradLatitude'] = df['UndergradLatitude'].astype('float')\n",
    "\n",
    "df['UndergradLongitude'] = long_list\n",
    "df['UndergradLatitude'] = df['UndergradLongitude'].astype('float')\n",
    "#df.head(40)"
   ]
  },
  {
   "cell_type": "code",
   "execution_count": 11,
   "metadata": {},
   "outputs": [],
   "source": [
    "# create a map with undergrad locations\n",
    "df_undergrad = df.loc[:,\"UndergradLatitude\":\"UndergradLongitude\"] #create a subset of df to deal with the na problem\n",
    "df_undergrad = df_undergrad.dropna()\n",
    "undergrad_locs = df.loc[:,\"undergrad_loc\"]\n",
    "#print(df_undergrad)\n",
    "\n",
    "if None in lat_list: lat_list.remove(None)\n",
    "if None in long_list: long_list.remove(None)\n",
    "undergrad_locs = [x for x in undergrad_locs if pd.notna(x)]"
   ]
  },
  {
   "cell_type": "code",
   "execution_count": null,
   "metadata": {},
   "outputs": [],
   "source": [
    "# check formats are correct with the NA values removed\n",
    "print(lat_list)\n",
    "print(long_list)\n",
    "print(undergrad_locs)\n",
    "type(undergrad_locs)"
   ]
  },
  {
   "cell_type": "code",
   "execution_count": null,
   "metadata": {},
   "outputs": [],
   "source": [
    "# undergrad locations plotting \n",
    "undergrad_map = folium.Map()\n",
    "#Loop through locations and add the markers on the map\n",
    "for undergrad_location in range(len(undergrad_locs)): \n",
    "    folium.Marker([lat_list[undergrad_location], long_list[undergrad_location]], popup=undergrad_locs[undergrad_location]).add_to(undergrad_map)\n",
    "    \n",
    "#display map\n",
    "undergrad_map"
   ]
  },
  {
   "cell_type": "code",
   "execution_count": null,
   "metadata": {
    "scrolled": true
   },
   "outputs": [],
   "source": [
    "# create RA locations \n",
    "# Loop through rows to get the longitude and latitude of the RA_locations (be aware of missing data)\n",
    "lat_list = []\n",
    "long_list = []\n",
    "for research_location in df['ra_lm_loc']:\n",
    "    #print(location_1)\n",
    "    \n",
    "    if pd.isnull(research_location):\n",
    "        lat = None\n",
    "        long = None\n",
    "    else:\n",
    "        location_1 = geolocator.geocode(research_location, timeout=10)\n",
    "        if location_1 is None:\n",
    "            raise ValueError(\"Geocode failed\")\n",
    "        lat = location_1.latitude\n",
    "        long = location_1.longitude\n",
    "    \n",
    "    lat_list.append(lat)\n",
    "    long_list.append(long)\n",
    "    print((lat,long,research_location))\n",
    "        \n",
    "# #Saving lat and long in separate columns in the dataframe    \n",
    "df['RA_LM_Latitude' ] = lat_list\n",
    "df['RA_LM_Latitude'] = df['RA_LM_Latitude'].astype('float')\n",
    "\n",
    "df['RA_LM_Longitude'] = long_list\n",
    "df['RA_LM_Latitude'] = df['RA_LM_Longitude'].astype('float')\n",
    "#df.head(40)\n"
   ]
  },
  {
   "cell_type": "code",
   "execution_count": null,
   "metadata": {
    "scrolled": true
   },
   "outputs": [],
   "source": [
    "# create a map with research position locations\n",
    "df_research = df.loc[:,\"RA_LM_Latitude\":\"RA_LM_Longitude\"] #create a subset of df to deal with the na problem\n",
    "df_research = df_research.dropna()\n",
    "research_locs = df.loc[:,\"ra_lm_loc\"]\n",
    "#print(df_undergrad)\n",
    "\n",
    "lat_list = list(filter(None, lat_list))\n",
    "long_list = list(filter(None, long_list))\n",
    "research_locs = [x for x in research_locs if pd.notna(x)]"
   ]
  },
  {
   "cell_type": "code",
   "execution_count": null,
   "metadata": {},
   "outputs": [],
   "source": [
    "# check formats are correct with the NA values removed\n",
    "print(lat_list)\n",
    "print(long_list)\n",
    "print(research_locs)\n",
    "type(research_locs)"
   ]
  },
  {
   "cell_type": "code",
   "execution_count": null,
   "metadata": {},
   "outputs": [],
   "source": [
    "# research locations plotting \n",
    "research_map = folium.Map()\n",
    "#Loop through locations and add the markers on the map\n",
    "for research_location in range(len(research_locs)): \n",
    "    folium.Marker([lat_list[research_location], long_list[research_location]], popup=research_locs[research_location]).add_to(research_map)\n",
    "\n",
    "#display map\n",
    "research_map"
   ]
  },
  {
   "cell_type": "code",
   "execution_count": null,
   "metadata": {
    "scrolled": true
   },
   "outputs": [],
   "source": [
    "# create PHD/Doctoral locations \n",
    "# Loop through rows to get the longitude and latitude of the RA_locations (be aware of missing data)\n",
    "lat_list = []\n",
    "long_list = []\n",
    "for phd_location in df['phd_loc']:\n",
    "    #print(location_1)\n",
    "    \n",
    "    if pd.isnull(phd_location):\n",
    "        lat = None\n",
    "        long = None\n",
    "    else:\n",
    "        location_1 = geolocator.geocode(phd_location, timeout=10)\n",
    "        if location_1 is None:\n",
    "            raise ValueError(\"Geocode failed\")\n",
    "        lat = location_1.latitude\n",
    "        long = location_1.longitude\n",
    "    \n",
    "    lat_list.append(lat)\n",
    "    long_list.append(long)\n",
    "    print((lat,long,phd_location))\n",
    "        \n",
    "# #Saving lat and long in separate columns in the dataframe    \n",
    "df['PHD_Latitude' ] = lat_list\n",
    "df['PHD_Latitude'] = df['PHD_Latitude'].astype('float')\n",
    "\n",
    "df['PHD_Longitude'] = long_list\n",
    "df['PHD_Latitude'] = df['PHD_Longitude'].astype('float')\n",
    "#df.head(40)\n",
    "\n",
    "# create a map with research position locations\n",
    "df_phd = df.loc[:,\"PHD_Longitude\":\"PHD_Latitude\"] #create a subset of df to deal with the na problem\n",
    "df_phd = df_phd.dropna()\n",
    "phd_locs = df.loc[:,\"phd_loc\"]\n",
    "#print(df_undergrad)\n",
    "\n",
    "lat_list = list(filter(None, lat_list))\n",
    "long_list = list(filter(None, long_list))\n",
    "phd_locs = [x for x in phd_locs if pd.notna(x)]\n",
    "\n",
    "# research locations plotting \n",
    "phd_map = folium.Map()\n",
    "#Loop through locations and add the markers on the map\n",
    "for phd_location in range(len(phd_locs)): \n",
    "    folium.Marker([lat_list[phd_location], long_list[phd_location]], popup=phd_locs[phd_location]).add_to(phd_map)\n",
    "\n",
    "#display map    \n",
    "phd_map\n"
   ]
  },
  {
   "cell_type": "code",
   "execution_count": null,
   "metadata": {},
   "outputs": [],
   "source": []
  },
  {
   "cell_type": "code",
   "execution_count": null,
   "metadata": {},
   "outputs": [],
   "source": [
    "# practice plotting with circles \n",
    "\n",
    "m = folium.Map(\n",
    "    location=[-34.4243941, 150.89385],\n",
    "    zoom_start=13\n",
    ")\n",
    "\n",
    "folium.Circle(\n",
    "    radius=100,\n",
    "    location=[-34.4243941, 150.89385],\n",
    "    popup='The Waterfront',\n",
    "    color='crimson',\n",
    "    fill=False,\n",
    ").add_to(m)\n",
    "\n",
    "folium.CircleMarker(\n",
    "    location=[-34.4243941, 150.89385],\n",
    "    radius=50,\n",
    "    popup='Laurelhurst Park',\n",
    "    color='#3186cc',\n",
    "    fill=True,\n",
    "    fill_color='#3186cc'\n",
    ").add_to(m)\n",
    "\n",
    "\n",
    "m"
   ]
  },
  {
   "cell_type": "code",
   "execution_count": null,
   "metadata": {},
   "outputs": [],
   "source": []
  },
  {
   "cell_type": "code",
   "execution_count": null,
   "metadata": {},
   "outputs": [],
   "source": [
    "from ipyleaflet import (Map, basemaps, basemap_to_tiles, Circle, LayersControl)\n",
    "    \n",
    "#Try plotting the same but with different markers (circles!)\n",
    "locs = df.loc[:,\"birthplace\"]\n",
    "#Plot hometown locations on the map!\n",
    "m = Map(zoom=0)\n",
    "\n",
    "#Loop through locations and add the markers on the map\n",
    "for home_location in range(len(locs)):\n",
    "    c = Circle()\n",
    "    c.radius=300\n",
    "    c.location=[lat[home_location], long[home_location]]\n",
    "    c.color='crimson'\n",
    "    c.fill=False\n",
    "    m.add_layer(c)\n",
    "    \n",
    "m2 = Map(zoom=4)\n",
    "\n",
    "#Loop through locations and add the markers on the map\n",
    "for home_location in range(len(locs)):\n",
    "    c = Circle()\n",
    "    c.radius=300\n",
    "    c.location=[lat[home_location], long[home_location]]\n",
    "    c.color='blue'\n",
    "    c.fill=False\n",
    "    m2.add_layer(c)\n",
    "\n",
    "m.add_layer(m2)\n",
    "m.add_control(LayersControl(position='topright'))\n",
    "m"
   ]
  },
  {
   "cell_type": "code",
   "execution_count": 93,
   "metadata": {
    "scrolled": true
   },
   "outputs": [
    {
     "data": {
      "application/vnd.jupyter.widget-view+json": {
       "model_id": "7b6081f865cb4b5ca82a41de1b543f38",
       "version_major": 2,
       "version_minor": 0
      },
      "text/plain": [
       "Map(basemap={'url': 'https://{s}.tile.openstreetmap.org/{z}/{x}/{y}.png', 'max_zoom': 19, 'attribution': 'Map …"
      ]
     },
     "metadata": {},
     "output_type": "display_data"
    }
   ],
   "source": [
    "#Dasha's attempt\n",
    "import ipyleaflet as lf\n",
    "from ipyleaflet import (Map, basemaps, basemap_to_tiles, Circle, LayersControl)\n",
    "from ipyleaflet import Map, FullScreenControl\n",
    "\n",
    "\n",
    "    \n",
    "#Try plotting the same but with different markers (circles!)\n",
    "# locs = df.loc[:,\"birthplace\"]\n",
    "#Plot hometown locations on the map!\n",
    "m = Map(zoom=1)\n",
    "\n",
    "#fake layer\n",
    "c0 = Circle()\n",
    "c0.radius=1000\n",
    "c0.location=[lat[0], long[0]]\n",
    "c0.color='green'\n",
    "c0.fill=True\n",
    "c0.name=\"green\"\n",
    "m.add_layer(c0)\n",
    "\n",
    "#group of two red circles\n",
    "ctest1 = Circle()\n",
    "ctest1.radius=300\n",
    "ctest1.location=[lat_list[1], long_list[1]]\n",
    "ctest1.color='blue'\n",
    "ctest1.fill=True\n",
    "\n",
    "ctest2 = Circle()\n",
    "ctest2.radius=300\n",
    "ctest2.location=[lat_list[3], long_list[3]]\n",
    "ctest2.color='blue'\n",
    "ctest2.fill=True\n",
    "\n",
    "bluecircles = lf.LayerGroup(name='blue circles', layers=[ctest1, ctest2])\n",
    "m.add_layer(bluecircles)\n",
    "\n",
    "\n",
    "#     c2.name=\"Undergrad location\"\n",
    "#     #layergroup2=c2\n",
    "\n",
    "# coords = []\n",
    "# #Loop through locations and add the markers on the map\n",
    "# for home_location in range(len(locs)):\n",
    "#     coords.append([lat[home_location], long[home_location]])\n",
    "# c = Circle()\n",
    "# c.radius=300\n",
    "# c.location=coords\n",
    "# c.color='crimson'\n",
    "# c.fill=True\n",
    "# c.name=\"Hometown location\"\n",
    "# #layergroup1=c\n",
    "# #group1 = lf.LayerGroup(name='Hometown location', layers=[c])\n",
    "# #m.add_layer(group1)\n",
    "# m.add_layer(c)\n",
    "    \n",
    "\n",
    "# #group2 = lf.LayerGroup(name='Group2', layers=[lf.Marker(location=t) for t in stops[10:20]])\n",
    "    \n",
    "\n",
    "# #Loop through locations and add the markers on the map\n",
    "# for undergrad_location in range(len(undergrad_locs)):\n",
    "#     c2 = Circle()\n",
    "#     c2.radius=300\n",
    "#     c2.location=[lat_list[undergrad_location], long_list[undergrad_location]]\n",
    "#     c2.color='blue'\n",
    "#     c2.fill=True\n",
    "#     c2.name=\"Undergrad location\"\n",
    "#     #layergroup2=c2\n",
    "#     #m.add_layer(layergroup2)\n",
    "#     m.add_layer(c2)\n",
    "\n",
    "#m.add_control(LayersControl(position='topright'))\n",
    "m.add_control(LayersControl())\n",
    "\n",
    "m\n"
   ]
  },
  {
   "cell_type": "code",
   "execution_count": 89,
   "metadata": {},
   "outputs": [],
   "source": [
    "#coords"
   ]
  },
  {
   "cell_type": "code",
   "execution_count": 90,
   "metadata": {},
   "outputs": [],
   "source": [
    "#long"
   ]
  },
  {
   "cell_type": "code",
   "execution_count": null,
   "metadata": {},
   "outputs": [],
   "source": [
    "from ipyleaflet import (\n",
    "    Map, basemaps, basemap_to_tiles,\n",
    "    WMSLayer, LayersControl\n",
    ")\n",
    "\n",
    "mp = Map(center=(50, 354), zoom=4)\n",
    "nasa_layer = basemap_to_tiles(basemaps.NASAGIBS.ModisTerraTrueColorCR, \"2018-03-30\")\n",
    "mp.add_layer(nasa_layer)\n",
    "\n",
    "wms = WMSLayer(\n",
    "    url=\"https://demo.boundlessgeo.com/geoserver/ows?\",\n",
    "    layers=\"nasa:bluemarble\",\n",
    "    name=\"nasa:bluemarble\"\n",
    ")\n",
    "mp.add_layer(wms)\n",
    "mp.add_control(LayersControl())\n",
    "\n",
    "mp"
   ]
  },
  {
   "cell_type": "code",
   "execution_count": 21,
   "metadata": {},
   "outputs": [
    {
     "data": {
      "text/plain": [
       "['Providence, RI, USA',\n",
       " 'Rovereto, Trentino, Italy',\n",
       " 'Wollongong, NSW, Australia',\n",
       " 'Hong Kong',\n",
       " 'Ann Arbor, MI, USA',\n",
       " 'Lawrence, KS, United States',\n",
       " 'Buenos Aires, Argentina',\n",
       " 'Moscow/Russia',\n",
       " 'Mumbai, India',\n",
       " 'Palo Alto, CA, USA',\n",
       " 'West Lafayette, IN, United States',\n",
       " 'Auburn, AL, USA',\n",
       " 'Taipei, Taiwan',\n",
       " 'Roorkee, India',\n",
       " 'Annandale-on-Hudson, NY, USA',\n",
       " 'Seoul, South Korea',\n",
       " 'Tijuana, Baja California, Mexico',\n",
       " 'Leiden, the Netherlands',\n",
       " 'Tulsa, OK, USA',\n",
       " 'Lubbock, Texas, USA',\n",
       " 'Los Angeles, California, USA',\n",
       " 'Orange, CA, USA',\n",
       " 'Rio de Janeiro, Rio de Janeiro, Brazil',\n",
       " 'Ottawa, Canada',\n",
       " 'Jerusalem, Israel',\n",
       " 'Chapel Hill, North Carolina, USA',\n",
       " 'Novosibirsk, Russia',\n",
       " 'New Orleans, LA, USA',\n",
       " 'Saratoga Springs, NY, USA',\n",
       " 'Tehran, Tehran, Iran',\n",
       " 'New York, NY, USA',\n",
       " 'colorado springs, CO, US',\n",
       " 'Toronto, Ontario, Canada',\n",
       " 'Jerusalem, Israel',\n",
       " 'Rochester, NY . USA',\n",
       " 'Claremont, CA, USA',\n",
       " 'London, UK']"
      ]
     },
     "execution_count": 21,
     "metadata": {},
     "output_type": "execute_result"
    }
   ],
   "source": [
    "undergrad_locs"
   ]
  },
  {
   "cell_type": "code",
   "execution_count": null,
   "metadata": {},
   "outputs": [],
   "source": []
  },
  {
   "cell_type": "code",
   "execution_count": null,
   "metadata": {},
   "outputs": [],
   "source": []
  },
  {
   "cell_type": "code",
   "execution_count": null,
   "metadata": {},
   "outputs": [],
   "source": []
  },
  {
   "cell_type": "code",
   "execution_count": null,
   "metadata": {},
   "outputs": [],
   "source": []
  }
 ],
 "metadata": {
  "kernelspec": {
   "display_name": "Python 3",
   "language": "python",
   "name": "python3"
  },
  "language_info": {
   "codemirror_mode": {
    "name": "ipython",
    "version": 3
   },
   "file_extension": ".py",
   "mimetype": "text/x-python",
   "name": "python",
   "nbconvert_exporter": "python",
   "pygments_lexer": "ipython3",
   "version": "3.6.4"
  }
 },
 "nbformat": 4,
 "nbformat_minor": 2
}
